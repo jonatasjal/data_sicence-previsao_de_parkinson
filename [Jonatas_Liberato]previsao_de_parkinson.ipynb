{
  "nbformat": 4,
  "nbformat_minor": 0,
  "metadata": {
    "colab": {
      "name": "[Jonatas-Liberato]previsao-de-parkinson.ipynb",
      "provenance": [],
      "collapsed_sections": []
    },
    "kernelspec": {
      "name": "python3",
      "display_name": "Python 3"
    },
    "language_info": {
      "name": "python"
    }
  },
  "cells": [
    {
      "cell_type": "markdown",
      "source": [
        "# **DETECTANDO PARKINSON**"
      ],
      "metadata": {
        "id": "PoPsLGcYYtQY"
      }
    },
    {
      "cell_type": "markdown",
      "source": [
        "Nosso objetivo é utilziar Machine Learning para detectar a presença da doença em indivíduos através da Matrix de Confusão. Para isso utilizaremos XGBClassifier e XGBoost."
      ],
      "metadata": {
        "id": "4S0lUP3jYzNO"
      }
    },
    {
      "cell_type": "markdown",
      "source": [
        "Link da base de dados: https://archive.ics.uci.edu/ml/datasets/Parkinsons"
      ],
      "metadata": {
        "id": "ppGHRH0cZG1G"
      }
    },
    {
      "cell_type": "markdown",
      "source": [
        "**Avaliando os dados**\n",
        "\n",
        "Neste dataset encontramos diversas medições de voz de 31 pacientes, sendo 23 com a doença(DP). Cada coluna do dataset é uma medida de voz e cada linha corresponde a uma das 195 vozes encontradas nos dados (coluna P). \n",
        "Nossa tarefa é separar pessoas saudáveis(status = 0) das pessoas com a doença(status = 1)."
      ],
      "metadata": {
        "id": "-AxVulppZJ6m"
      }
    },
    {
      "cell_type": "code",
      "source": [
        "# Exibindo a arquitetura dos dados com as variáveis\n",
        "from PIL import Image\n",
        "%matplotlib inline\n",
        "image = Image.open('AD.JPG')\n",
        "image"
      ],
      "metadata": {
        "id": "LUz-H44_ahcm"
      },
      "execution_count": null,
      "outputs": []
    },
    {
      "cell_type": "code",
      "source": [
        "# Bibliotecas \n",
        "import numpy as np\n",
        "import pandas as pd\n",
        "import os, sys\n",
        "from sklearn.preprocessing import MinMaxScaler # algoritmo de Machine L. para padronização\n",
        "from xgboost import XGBClassifier \n",
        "from sklearn.model_selection import train_test_split\n",
        "from sklearn.metrics import accuracy_score"
      ],
      "metadata": {
        "id": "baGMqUHPBv-I"
      },
      "execution_count": 2,
      "outputs": []
    },
    {
      "cell_type": "code",
      "source": [
        "# Importação da base de dados\n",
        "df = pd.read_csv('parkinsons.data')\n",
        "df.head()"
      ],
      "metadata": {
        "id": "cV6oxRhRDmRX"
      },
      "execution_count": null,
      "outputs": []
    },
    {
      "cell_type": "markdown",
      "source": [
        "**Análise Exploratória**"
      ],
      "metadata": {
        "id": "_07Qif1AEGb5"
      }
    },
    {
      "cell_type": "code",
      "source": [
        "df.shape"
      ],
      "metadata": {
        "id": "QEYorUexEKD4"
      },
      "execution_count": null,
      "outputs": []
    },
    {
      "cell_type": "code",
      "source": [
        "df.describe()"
      ],
      "metadata": {
        "id": "gloRO6UpEPSB"
      },
      "execution_count": null,
      "outputs": []
    },
    {
      "cell_type": "code",
      "source": [
        "df.head()"
      ],
      "metadata": {
        "id": "DDdaZDNjFuhq"
      },
      "execution_count": null,
      "outputs": []
    },
    {
      "cell_type": "code",
      "source": [
        "df.isna().sum()"
      ],
      "metadata": {
        "id": "JNcZnFrxNBsl"
      },
      "execution_count": null,
      "outputs": []
    },
    {
      "cell_type": "code",
      "source": [
        "df.info()"
      ],
      "metadata": {
        "id": "Z_D49HfbNDYL"
      },
      "execution_count": null,
      "outputs": []
    },
    {
      "cell_type": "markdown",
      "source": [
        "**Pré-Processamento**"
      ],
      "metadata": {
        "id": "J_KUkWHPNF6i"
      }
    },
    {
      "cell_type": "code",
      "source": [
        "# Separando as variáveis explicativas do TARGET('status')\n",
        "features = df.loc[:,df.columns != 'status'].values[:, 1:] # inserimos na vriável todos os valores menos 'status'\n",
        "labels = df.loc[:, 'status'].values"
      ],
      "metadata": {
        "id": "5-fc8nLZFbNZ"
      },
      "execution_count": 23,
      "outputs": []
    },
    {
      "cell_type": "code",
      "source": [
        "# Analisando estatisticamente as Labels do modelos\n",
        "# 0 = não tem parkinson | 1 = tem parkinson\n",
        "print(labels[labels == 1].shape[0], labels[labels == 0].shape[0])"
      ],
      "metadata": {
        "id": "Kd-NzzNoGmHS"
      },
      "execution_count": null,
      "outputs": []
    },
    {
      "cell_type": "code",
      "source": [
        "# Deixando os dados na mesma escala com o MinMaxScaler\n",
        "scaler = MinMaxScaler((-1, 1)) # criamos o escalonador\n",
        "x = scaler.fit_transform(features) # passando o escalonador nas features\n",
        "y = labels"
      ],
      "metadata": {
        "id": "pqwKlk0kIz6j"
      },
      "execution_count": 29,
      "outputs": []
    },
    {
      "cell_type": "code",
      "source": [
        "# Separando os dados de teste  de treino\n",
        "x_train, x_test, y_train, y_test = train_test_split(x, y, test_size = 0.2, random_state = 7)"
      ],
      "metadata": {
        "id": "X-FplRKTKEN2"
      },
      "execution_count": 40,
      "outputs": []
    },
    {
      "cell_type": "markdown",
      "source": [
        "**Criando a máquina preditiva**"
      ],
      "metadata": {
        "id": "26wWTgRxLFoy"
      }
    },
    {
      "cell_type": "code",
      "source": [
        "# Treinando o modelo classificador\n",
        "model = XGBClassifier()\n",
        "model.fit(x_train,y_train)"
      ],
      "metadata": {
        "id": "lpWN4NPcLH35"
      },
      "execution_count": null,
      "outputs": []
    },
    {
      "cell_type": "markdown",
      "source": [
        "**Avaliando a máquina preditiva**"
      ],
      "metadata": {
        "id": "v3564ZFUM5pq"
      }
    },
    {
      "cell_type": "code",
      "source": [
        "# Avaliaçao do modelo\n",
        "y_pred = model.predict(x_test)\n",
        "print(accuracy_score(y_test, y_pred) * 100)"
      ],
      "metadata": {
        "colab": {
          "base_uri": "https://localhost:8080/"
        },
        "id": "Q-jkQ90YLelL",
        "outputId": "04841e78-4701-4b49-d505-e40842f9ad86"
      },
      "execution_count": 43,
      "outputs": [
        {
          "output_type": "stream",
          "name": "stdout",
          "text": [
            "94.87179487179486\n"
          ]
        }
      ]
    },
    {
      "cell_type": "markdown",
      "source": [
        "**A acurácia ficou em ~95%, o que é muito bom para dados de saúde. :)**"
      ],
      "metadata": {
        "id": "gDAiSmbUMo3c"
      }
    },
    {
      "cell_type": "markdown",
      "source": [
        "Autor: Jonatas A. Liberato\n",
        "Créditos: Eduardo Rocha"
      ],
      "metadata": {
        "id": "aAK0JE1DMyKa"
      }
    }
  ]
}